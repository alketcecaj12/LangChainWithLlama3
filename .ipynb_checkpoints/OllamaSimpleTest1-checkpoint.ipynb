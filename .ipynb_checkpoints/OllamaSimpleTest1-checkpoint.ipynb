{
 "cells": [
  {
   "cell_type": "code",
   "execution_count": 1,
   "id": "cfd4c70f-3942-40fc-88a7-cdce40f791d7",
   "metadata": {},
   "outputs": [],
   "source": [
    "from langchain_community.llms import Ollama"
   ]
  },
  {
   "cell_type": "code",
   "execution_count": 2,
   "id": "7abe0390-8372-4822-b3d7-2a3e582b7472",
   "metadata": {},
   "outputs": [],
   "source": [
    "llm = Ollama(model=\"llama3\")"
   ]
  },
  {
   "cell_type": "code",
   "execution_count": 3,
   "id": "168df998-e291-437a-8ecb-31bd6f180587",
   "metadata": {},
   "outputs": [
    {
     "data": {
      "text/plain": [
       "\"Here's one:\\n\\nWhy couldn't the bicycle stand up by itself?\\n\\n(wait for it...)\\n\\nBecause it was two-tired!\\n\\nHope that made you laugh! Do you want to hear another one?\""
      ]
     },
     "execution_count": 3,
     "metadata": {},
     "output_type": "execute_result"
    }
   ],
   "source": [
    "llm.invoke(\"Tell me a joke\")"
   ]
  },
  {
   "cell_type": "code",
   "execution_count": 4,
   "id": "7a939ece-f280-4e91-9cdc-41556bb8fda8",
   "metadata": {},
   "outputs": [
    {
     "name": "stderr",
     "output_type": "stream",
     "text": [
      "/var/folders/tt/zbxpsbdn7fd6_zbyqkfm28d40000gn/T/ipykernel_79019/724924212.py:4: LangChainDeprecationWarning: The method `BaseLLM.__call__` was deprecated in langchain-core 0.1.7 and will be removed in 1.0. Use invoke instead.\n",
      "  llm(\"The first man on the summit of Mount Everest, the highest peak on Earth, was ...\")\n"
     ]
    },
    {
     "data": {
      "text/plain": [
       "\" The first man to reach the summit of Mount Everest was Sir Edmund Hillary from New Zealand. He achieved this feat on May 29, 1953, along with Tenzing Norgay, a Sherpa from Nepal. They were part of a British expedition led by John Hunt. However, there's debate as to whether or not Huang Longbao, a Chinese mountaineer, reached the summit about two weeks earlier but returned without documentation.\""
      ]
     },
     "execution_count": 4,
     "metadata": {},
     "output_type": "execute_result"
    }
   ],
   "source": [
    "from langchain_community.llms import Ollama\n",
    "\n",
    "llm = Ollama(model=\"mistral\")\n",
    "llm(\"The first man on the summit of Mount Everest, the highest peak on Earth, was ...\")"
   ]
  },
  {
   "cell_type": "code",
   "execution_count": 5,
   "id": "43070dec-2de6-431d-aa78-c08004c6432f",
   "metadata": {},
   "outputs": [
    {
     "name": "stdout",
     "output_type": "stream",
     "text": [
      " The first person to reach"
     ]
    },
    {
     "name": "stderr",
     "output_type": "stream",
     "text": [
      "/var/folders/tt/zbxpsbdn7fd6_zbyqkfm28d40000gn/T/ipykernel_79019/1979871741.py:4: DeprecationWarning: callback_manager is deprecated. Please use callbacks instead.\n",
      "  llm = Ollama(\n"
     ]
    },
    {
     "name": "stdout",
     "output_type": "stream",
     "text": [
      " the summit of Mount Everest was Sir Edmund Hillary from New Zealand and Tenzing Norgay, a Sherpa from Nepal. They achieved this feat on May 29, 1953. However, there is some controversy regarding the first woman to summit Everest as there are conflicting reports about Junko Tabei from Japan reaching the summit a day earlier or on the same day as Sir Edmund Hillary and Tenzing Norgay. It's important to note that Mount Everest lies in the borders of Nepal and China, so both countries often claim the title of having produced the first climber to reach its summit."
     ]
    },
    {
     "data": {
      "text/plain": [
       "\" The first person to reach the summit of Mount Everest was Sir Edmund Hillary from New Zealand and Tenzing Norgay, a Sherpa from Nepal. They achieved this feat on May 29, 1953. However, there is some controversy regarding the first woman to summit Everest as there are conflicting reports about Junko Tabei from Japan reaching the summit a day earlier or on the same day as Sir Edmund Hillary and Tenzing Norgay. It's important to note that Mount Everest lies in the borders of Nepal and China, so both countries often claim the title of having produced the first climber to reach its summit.\""
      ]
     },
     "execution_count": 5,
     "metadata": {},
     "output_type": "execute_result"
    }
   ],
   "source": [
    "from langchain.callbacks.manager import CallbackManager\n",
    "from langchain.callbacks.streaming_stdout import StreamingStdOutCallbackHandler\n",
    "\n",
    "llm = Ollama(\n",
    "    model=\"mistral\", callback_manager=CallbackManager([StreamingStdOutCallbackHandler()])\n",
    ")\n",
    "llm(\"The first man on the summit of Mount Everest, the highest peak on Earth, was ...\")"
   ]
  },
  {
   "cell_type": "code",
   "execution_count": null,
   "id": "e03734cc-a96f-4f5e-9e88-fcf5a42678d6",
   "metadata": {},
   "outputs": [],
   "source": []
  },
  {
   "cell_type": "code",
   "execution_count": null,
   "id": "19249896-9201-48b3-8f57-b34a348872ff",
   "metadata": {},
   "outputs": [],
   "source": []
  },
  {
   "cell_type": "code",
   "execution_count": null,
   "id": "664258a2-6ed6-4dee-bdb5-0ef3c0cdee78",
   "metadata": {},
   "outputs": [],
   "source": []
  },
  {
   "cell_type": "code",
   "execution_count": null,
   "id": "fe668208-2f11-462d-bf27-c13e14640087",
   "metadata": {},
   "outputs": [],
   "source": []
  },
  {
   "cell_type": "code",
   "execution_count": null,
   "id": "d4672ead-5274-4fbb-abbb-698eacd2a7cb",
   "metadata": {},
   "outputs": [],
   "source": []
  },
  {
   "cell_type": "code",
   "execution_count": null,
   "id": "42d802fa-9ffa-43a1-a0a3-e3a52e1dda70",
   "metadata": {},
   "outputs": [],
   "source": []
  },
  {
   "cell_type": "code",
   "execution_count": null,
   "id": "994ab548-5075-4a16-a939-576bcd7f2b45",
   "metadata": {},
   "outputs": [],
   "source": []
  }
 ],
 "metadata": {
  "kernelspec": {
   "display_name": "Python 3 (ipykernel)",
   "language": "python",
   "name": "python3"
  },
  "language_info": {
   "codemirror_mode": {
    "name": "ipython",
    "version": 3
   },
   "file_extension": ".py",
   "mimetype": "text/x-python",
   "name": "python",
   "nbconvert_exporter": "python",
   "pygments_lexer": "ipython3",
   "version": "3.10.13"
  }
 },
 "nbformat": 4,
 "nbformat_minor": 5
}
