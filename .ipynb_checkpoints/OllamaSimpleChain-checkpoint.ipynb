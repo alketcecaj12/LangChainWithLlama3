{
 "cells": [
  {
   "cell_type": "markdown",
   "id": "f83b0d44-8fc9-496a-a1dd-442ebe7426bb",
   "metadata": {},
   "source": [
    "### This is a simple chain in Ollama"
   ]
  },
  {
   "cell_type": "code",
   "execution_count": 28,
   "id": "b5b2a5be-66b1-47ca-b3e0-c114b0dd3973",
   "metadata": {},
   "outputs": [],
   "source": [
    "from langchain.llms import Ollama\n",
    "from langchain.callbacks.manager import CallbackManager\n",
    "from langchain.callbacks.streaming_stdout import StreamingStdOutCallbackHandler   "
   ]
  },
  {
   "cell_type": "markdown",
   "id": "0db32ad6-97b9-4777-aef7-b4f95f71bea2",
   "metadata": {},
   "source": [
    "#### Load the model and set the temperature"
   ]
  },
  {
   "cell_type": "code",
   "execution_count": 33,
   "id": "5c7cd36d-a14b-4493-9e36-10f774eba1c3",
   "metadata": {},
   "outputs": [],
   "source": [
    "llm = Ollama(model=\"llama3\", \n",
    "            #  callback_manager = CallbackManager([StreamingStdOutCallbackHandler()]),\n",
    "            temperature=0.9,\n",
    "             )"
   ]
  },
  {
   "cell_type": "markdown",
   "id": "4bc9d697-5a42-47b8-b833-ece1b867a2f2",
   "metadata": {},
   "source": [
    "#### Create a prompt template"
   ]
  },
  {
   "cell_type": "code",
   "execution_count": 34,
   "id": "a66f4c2a-fda5-4ef6-8c6f-b47f04928c9a",
   "metadata": {},
   "outputs": [],
   "source": [
    "from langchain.prompts import PromptTemplate\n",
    "\n",
    "prompt = PromptTemplate(\n",
    "    input_variables=[\"topic\"],\n",
    "    template=\"Give me 5 interesting facts about {topic}?\",\n",
    ")"
   ]
  },
  {
   "cell_type": "markdown",
   "id": "0530d542-582f-4e6f-a62a-11e9ffccf3fb",
   "metadata": {},
   "source": [
    "#### Create a chain"
   ]
  },
  {
   "cell_type": "code",
   "execution_count": 35,
   "id": "09ad5762-c951-4d65-a8ec-b4fd997e4a47",
   "metadata": {},
   "outputs": [],
   "source": [
    "from langchain.chains import LLMChain\n",
    "chain = LLMChain(llm=llm, \n",
    "                 prompt=prompt,\n",
    "                 verbose=False)"
   ]
  },
  {
   "cell_type": "markdown",
   "id": "d73784c0-dcfd-4015-b63e-d91d88ae564f",
   "metadata": {},
   "source": [
    "#### Chose a topic from user input"
   ]
  },
  {
   "cell_type": "code",
   "execution_count": 37,
   "id": "72909718-2f37-4374-a0aa-a4b7ea060405",
   "metadata": {},
   "outputs": [
    {
     "name": "stdin",
     "output_type": "stream",
     "text": [
      " Sun\n"
     ]
    }
   ],
   "source": [
    "topic = input()"
   ]
  },
  {
   "cell_type": "markdown",
   "id": "999ada38-5e55-4ad4-8536-10e13002bd73",
   "metadata": {},
   "source": [
    "#### Run the chain"
   ]
  },
  {
   "cell_type": "code",
   "execution_count": 39,
   "id": "cfdd85f9-55bc-4e70-bd55-88e4a923afb1",
   "metadata": {},
   "outputs": [
    {
     "data": {
      "text/plain": [
       "\"Here are 5 interesting facts about the Sun:\\n\\n1. **The Sun is a massive ball of hot, glowing gas**: The Sun is a huge sphere of plasma, made up of hydrogen and helium atoms that are so hot (about 5,500°C) they emit light and heat. Its diameter is approximately 1.4 million kilometers (870,000 miles), which is about 109 times larger than the diameter of Earth.\\n\\n2. **The Sun is the reason we have days and nights**: The Sun's rotation causes day and night on our planet. As it spins on its axis, different parts of the Earth face towards or away from the Sun, resulting in periods of sunlight (day) and darkness (night). It takes the Sun about 28 days to complete one full rotation.\\n\\n3. **The Sun is incredibly old**: The Sun is estimated to be around 4.6 billion years old, having formed about 2% of its current age during the formation of our solar system. Despite its age, it still has about half a billion years left before it becomes a red giant and then eventually a white dwarf.\\n\\n4. **The Sun's surface temperature is only 5,500°C, but its core is scorching hot**: The surface temperature of the Sun (also known as its photosphere) is relatively cool compared to its core. The core has an incredibly high temperature of around 15 million degrees Celsius (27 million°F), which is where nuclear reactions take place and energy is released.\\n\\n5. **The Sun loses about 4 million tons of mass every second**: This might sound surprising, but the Sun actually loses a significant amount of mass due to its energy output and solar wind (a stream of charged particles). Over millions of years, this loss accumulates, which is why we have a relatively stable Sun that's not expanding or contracting significantly.\\n\\nI hope you find these facts as fascinating as I do!\""
      ]
     },
     "execution_count": 39,
     "metadata": {},
     "output_type": "execute_result"
    }
   ],
   "source": [
    "chain.run(topic)"
   ]
  },
  {
   "cell_type": "code",
   "execution_count": null,
   "id": "1bfc62a3-4c2a-4bf1-9c24-4e0d871f6ebd",
   "metadata": {},
   "outputs": [],
   "source": []
  },
  {
   "cell_type": "code",
   "execution_count": null,
   "id": "0aff5d15-22e0-486b-b984-74bfc52fe164",
   "metadata": {},
   "outputs": [],
   "source": []
  },
  {
   "cell_type": "code",
   "execution_count": null,
   "id": "f2ba53f8-ffcb-42b0-b0e8-e54d066c8311",
   "metadata": {},
   "outputs": [],
   "source": []
  },
  {
   "cell_type": "code",
   "execution_count": null,
   "id": "4eecef44-45d3-434b-83cf-06d1cc4c3fe9",
   "metadata": {},
   "outputs": [],
   "source": []
  },
  {
   "cell_type": "code",
   "execution_count": null,
   "id": "92a19f65-0940-4043-b3f2-507f10c284c2",
   "metadata": {},
   "outputs": [],
   "source": []
  },
  {
   "cell_type": "code",
   "execution_count": null,
   "id": "461e6188-6ca4-4926-b02b-e36a7376a86d",
   "metadata": {},
   "outputs": [],
   "source": []
  }
 ],
 "metadata": {
  "kernelspec": {
   "display_name": "Python 3 (ipykernel)",
   "language": "python",
   "name": "python3"
  },
  "language_info": {
   "codemirror_mode": {
    "name": "ipython",
    "version": 3
   },
   "file_extension": ".py",
   "mimetype": "text/x-python",
   "name": "python",
   "nbconvert_exporter": "python",
   "pygments_lexer": "ipython3",
   "version": "3.10.13"
  }
 },
 "nbformat": 4,
 "nbformat_minor": 5
}
